{
 "cells": [
  {
   "cell_type": "markdown",
   "id": "4a15bf81",
   "metadata": {},
   "source": [
    "BMI CALCULATOR"
   ]
  },
  {
   "cell_type": "raw",
   "id": "69991c78",
   "metadata": {},
   "source": []
  },
  {
   "cell_type": "code",
   "execution_count": 10,
   "id": "39be07d9",
   "metadata": {},
   "outputs": [
    {
     "name": "stdout",
     "output_type": "stream",
     "text": [
      "Please enter your name: Nnamdi\n",
      "Please input your weight in pounds: 169\n",
      "Please input your height in inches: 75.19\n",
      "21.014635424367416\n"
     ]
    }
   ],
   "source": [
    "name = input('Please enter your name: ')\n",
    "\n",
    "weight = float(input(\"Please input your weight in pounds: \"))\n",
    "\n",
    "height = float(input(\"Please input your height in inches: \"))\n",
    "\n",
    "BMI = (weight * 703) / (height * height)\n",
    "\n",
    "print(BMI)"
   ]
  },
  {
   "cell_type": "code",
   "execution_count": 11,
   "id": "3bedc62c",
   "metadata": {},
   "outputs": [
    {
     "name": "stdout",
     "output_type": "stream",
     "text": [
      "Weight: 169.0\n",
      "Height: 75.19\n"
     ]
    }
   ],
   "source": [
    "print(f\"Weight: {weight}\")\n",
    "print(f\"Height: {height}\")"
   ]
  },
  {
   "cell_type": "code",
   "execution_count": 14,
   "id": "debd2cfe",
   "metadata": {},
   "outputs": [
    {
     "name": "stdout",
     "output_type": "stream",
     "text": [
      "Nnamdi, you are NORMAL WEIGHT\n"
     ]
    }
   ],
   "source": [
    "if BMI > 0:\n",
    "    if BMI < 18.5:\n",
    "        print(name + \", you are UNDERWEIGHT\")\n",
    "    elif BMI > 18.5:\n",
    "        print(name + \", you are NORMAL WEIGHT\")\n",
    "    elif BMI <= 24.9:\n",
    "        print(name + \", you are OVERWEIGHT\")\n",
    "    elif BMI <= 29.9:\n",
    "        print(name + \", you are OBESE\")\n",
    "    elif BMI <= 34.9:\n",
    "        print(name + \", you are SEVERELY OBESE\")\n",
    "    elif BMI >= 40:\n",
    "        print(name + \", you are MORBIDLY OBESE\")\n",
    "else:\n",
    "    print(\"Enter Valid Input\")\n",
    "    "
   ]
  },
  {
   "cell_type": "code",
   "execution_count": null,
   "id": "f2551c4c",
   "metadata": {},
   "outputs": [],
   "source": []
  },
  {
   "cell_type": "code",
   "execution_count": null,
   "id": "afadb4ac",
   "metadata": {},
   "outputs": [],
   "source": []
  },
  {
   "cell_type": "code",
   "execution_count": null,
   "id": "fbcc8106",
   "metadata": {},
   "outputs": [],
   "source": []
  },
  {
   "cell_type": "code",
   "execution_count": null,
   "id": "1cc07582",
   "metadata": {},
   "outputs": [],
   "source": []
  }
 ],
 "metadata": {
  "kernelspec": {
   "display_name": "Python 3 (ipykernel)",
   "language": "python",
   "name": "python3"
  },
  "language_info": {
   "codemirror_mode": {
    "name": "ipython",
    "version": 3
   },
   "file_extension": ".py",
   "mimetype": "text/x-python",
   "name": "python",
   "nbconvert_exporter": "python",
   "pygments_lexer": "ipython3",
   "version": "3.9.12"
  }
 },
 "nbformat": 4,
 "nbformat_minor": 5
}
